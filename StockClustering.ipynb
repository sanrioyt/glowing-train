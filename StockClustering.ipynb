{
 "cells": [
  {
   "cell_type": "code",
   "execution_count": 1,
   "metadata": {},
   "outputs": [],
   "source": [
    "import pandas as pd"
   ]
  },
  {
   "cell_type": "code",
   "execution_count": 2,
   "metadata": {},
   "outputs": [],
   "source": [
    "col_names = ['ticker', 'date', 'high', 'low', 'open', 'close', 'volume', 'oi', 'extra']"
   ]
  },
  {
   "cell_type": "code",
   "execution_count": 3,
   "metadata": {},
   "outputs": [],
   "source": [
    "stocks = pd.read_csv('history.csv', names=col_names, parse_dates=['date'])"
   ]
  },
  {
   "cell_type": "code",
   "execution_count": 4,
   "metadata": {},
   "outputs": [
    {
     "data": {
      "text/html": [
       "<div>\n",
       "<style scoped>\n",
       "    .dataframe tbody tr th:only-of-type {\n",
       "        vertical-align: middle;\n",
       "    }\n",
       "\n",
       "    .dataframe tbody tr th {\n",
       "        vertical-align: top;\n",
       "    }\n",
       "\n",
       "    .dataframe thead th {\n",
       "        text-align: right;\n",
       "    }\n",
       "</style>\n",
       "<table border=\"1\" class=\"dataframe\">\n",
       "  <thead>\n",
       "    <tr style=\"text-align: right;\">\n",
       "      <th></th>\n",
       "      <th>ticker</th>\n",
       "      <th>date</th>\n",
       "      <th>high</th>\n",
       "      <th>low</th>\n",
       "      <th>open</th>\n",
       "      <th>close</th>\n",
       "      <th>volume</th>\n",
       "      <th>oi</th>\n",
       "      <th>extra</th>\n",
       "    </tr>\n",
       "  </thead>\n",
       "  <tbody>\n",
       "    <tr>\n",
       "      <th>0</th>\n",
       "      <td>AAPL</td>\n",
       "      <td>2013-10-29</td>\n",
       "      <td>77.0357</td>\n",
       "      <td>73.5057</td>\n",
       "      <td>76.6100</td>\n",
       "      <td>73.8111</td>\n",
       "      <td>22707445.0</td>\n",
       "      <td>0.0</td>\n",
       "      <td>NaN</td>\n",
       "    </tr>\n",
       "    <tr>\n",
       "      <th>1</th>\n",
       "      <td>AAPL</td>\n",
       "      <td>2013-10-28</td>\n",
       "      <td>75.8571</td>\n",
       "      <td>74.7443</td>\n",
       "      <td>75.5771</td>\n",
       "      <td>75.6966</td>\n",
       "      <td>19658589.0</td>\n",
       "      <td>0.0</td>\n",
       "      <td>NaN</td>\n",
       "    </tr>\n",
       "    <tr>\n",
       "      <th>2</th>\n",
       "      <td>AAPL</td>\n",
       "      <td>2013-10-25</td>\n",
       "      <td>76.1757</td>\n",
       "      <td>75.0157</td>\n",
       "      <td>75.9021</td>\n",
       "      <td>75.1369</td>\n",
       "      <td>12064019.0</td>\n",
       "      <td>0.0</td>\n",
       "      <td>NaN</td>\n",
       "    </tr>\n",
       "    <tr>\n",
       "      <th>3</th>\n",
       "      <td>AAPL</td>\n",
       "      <td>2013-10-24</td>\n",
       "      <td>76.0671</td>\n",
       "      <td>74.6357</td>\n",
       "      <td>75.0000</td>\n",
       "      <td>75.9871</td>\n",
       "      <td>13741585.0</td>\n",
       "      <td>0.0</td>\n",
       "      <td>NaN</td>\n",
       "    </tr>\n",
       "    <tr>\n",
       "      <th>4</th>\n",
       "      <td>AAPL</td>\n",
       "      <td>2013-10-23</td>\n",
       "      <td>75.0957</td>\n",
       "      <td>74.1429</td>\n",
       "      <td>74.1429</td>\n",
       "      <td>74.9943</td>\n",
       "      <td>11204446.0</td>\n",
       "      <td>0.0</td>\n",
       "      <td>NaN</td>\n",
       "    </tr>\n",
       "  </tbody>\n",
       "</table>\n",
       "</div>"
      ],
      "text/plain": [
       "  ticker        date     high      low     open    close      volume   oi  \\\n",
       "0   AAPL  2013-10-29  77.0357  73.5057  76.6100  73.8111  22707445.0  0.0   \n",
       "1   AAPL  2013-10-28  75.8571  74.7443  75.5771  75.6966  19658589.0  0.0   \n",
       "2   AAPL  2013-10-25  76.1757  75.0157  75.9021  75.1369  12064019.0  0.0   \n",
       "3   AAPL  2013-10-24  76.0671  74.6357  75.0000  75.9871  13741585.0  0.0   \n",
       "4   AAPL  2013-10-23  75.0957  74.1429  74.1429  74.9943  11204446.0  0.0   \n",
       "\n",
       "   extra  \n",
       "0    NaN  \n",
       "1    NaN  \n",
       "2    NaN  \n",
       "3    NaN  \n",
       "4    NaN  "
      ]
     },
     "execution_count": 4,
     "metadata": {},
     "output_type": "execute_result"
    }
   ],
   "source": [
    "stocks.head()"
   ]
  },
  {
   "cell_type": "code",
   "execution_count": 5,
   "metadata": {},
   "outputs": [
    {
     "name": "stdout",
     "output_type": "stream",
     "text": [
      "<class 'pandas.core.frame.DataFrame'>\n",
      "RangeIndex: 51094 entries, 0 to 51093\n",
      "Data columns (total 9 columns):\n",
      " #   Column  Non-Null Count  Dtype  \n",
      "---  ------  --------------  -----  \n",
      " 0   ticker  51094 non-null  object \n",
      " 1   date    51094 non-null  object \n",
      " 2   high    51094 non-null  object \n",
      " 3   low     51092 non-null  float64\n",
      " 4   open    51092 non-null  float64\n",
      " 5   close   51092 non-null  float64\n",
      " 6   volume  51092 non-null  float64\n",
      " 7   oi      51092 non-null  float64\n",
      " 8   extra   0 non-null      float64\n",
      "dtypes: float64(6), object(3)\n",
      "memory usage: 3.5+ MB\n"
     ]
    }
   ],
   "source": [
    "stocks.info()"
   ]
  },
  {
   "cell_type": "markdown",
   "metadata": {},
   "source": [
    "## Check for null values"
   ]
  },
  {
   "cell_type": "code",
   "execution_count": 6,
   "metadata": {},
   "outputs": [
    {
     "data": {
      "text/plain": [
       "ticker        0\n",
       "date          0\n",
       "high          0\n",
       "low           2\n",
       "open          2\n",
       "close         2\n",
       "volume        2\n",
       "oi            2\n",
       "extra     51094\n",
       "dtype: int64"
      ]
     },
     "execution_count": 6,
     "metadata": {},
     "output_type": "execute_result"
    }
   ],
   "source": [
    "stocks.isna().sum()"
   ]
  },
  {
   "cell_type": "code",
   "execution_count": 7,
   "metadata": {},
   "outputs": [],
   "source": [
    "comps = pd.read_csv('stocks.csv', names=['CompanyName', 'ticker'])"
   ]
  },
  {
   "cell_type": "code",
   "execution_count": 8,
   "metadata": {},
   "outputs": [],
   "source": [
    "merged = pd.merge(stocks, comps, on='ticker')"
   ]
  },
  {
   "cell_type": "code",
   "execution_count": 9,
   "metadata": {},
   "outputs": [
    {
     "data": {
      "text/html": [
       "<div>\n",
       "<style scoped>\n",
       "    .dataframe tbody tr th:only-of-type {\n",
       "        vertical-align: middle;\n",
       "    }\n",
       "\n",
       "    .dataframe tbody tr th {\n",
       "        vertical-align: top;\n",
       "    }\n",
       "\n",
       "    .dataframe thead th {\n",
       "        text-align: right;\n",
       "    }\n",
       "</style>\n",
       "<table border=\"1\" class=\"dataframe\">\n",
       "  <thead>\n",
       "    <tr style=\"text-align: right;\">\n",
       "      <th></th>\n",
       "      <th>ticker</th>\n",
       "      <th>date</th>\n",
       "      <th>high</th>\n",
       "      <th>low</th>\n",
       "      <th>open</th>\n",
       "      <th>close</th>\n",
       "      <th>volume</th>\n",
       "      <th>oi</th>\n",
       "      <th>extra</th>\n",
       "      <th>CompanyName</th>\n",
       "    </tr>\n",
       "  </thead>\n",
       "  <tbody>\n",
       "    <tr>\n",
       "      <th>0</th>\n",
       "      <td>AAPL</td>\n",
       "      <td>2013-10-29</td>\n",
       "      <td>77.0357</td>\n",
       "      <td>73.5057</td>\n",
       "      <td>76.6100</td>\n",
       "      <td>73.8111</td>\n",
       "      <td>22707445.0</td>\n",
       "      <td>0.0</td>\n",
       "      <td>NaN</td>\n",
       "      <td>Apple</td>\n",
       "    </tr>\n",
       "    <tr>\n",
       "      <th>1</th>\n",
       "      <td>AAPL</td>\n",
       "      <td>2013-10-28</td>\n",
       "      <td>75.8571</td>\n",
       "      <td>74.7443</td>\n",
       "      <td>75.5771</td>\n",
       "      <td>75.6966</td>\n",
       "      <td>19658589.0</td>\n",
       "      <td>0.0</td>\n",
       "      <td>NaN</td>\n",
       "      <td>Apple</td>\n",
       "    </tr>\n",
       "    <tr>\n",
       "      <th>2</th>\n",
       "      <td>AAPL</td>\n",
       "      <td>2013-10-25</td>\n",
       "      <td>76.1757</td>\n",
       "      <td>75.0157</td>\n",
       "      <td>75.9021</td>\n",
       "      <td>75.1369</td>\n",
       "      <td>12064019.0</td>\n",
       "      <td>0.0</td>\n",
       "      <td>NaN</td>\n",
       "      <td>Apple</td>\n",
       "    </tr>\n",
       "    <tr>\n",
       "      <th>3</th>\n",
       "      <td>AAPL</td>\n",
       "      <td>2013-10-24</td>\n",
       "      <td>76.0671</td>\n",
       "      <td>74.6357</td>\n",
       "      <td>75.0000</td>\n",
       "      <td>75.9871</td>\n",
       "      <td>13741585.0</td>\n",
       "      <td>0.0</td>\n",
       "      <td>NaN</td>\n",
       "      <td>Apple</td>\n",
       "    </tr>\n",
       "    <tr>\n",
       "      <th>4</th>\n",
       "      <td>AAPL</td>\n",
       "      <td>2013-10-23</td>\n",
       "      <td>75.0957</td>\n",
       "      <td>74.1429</td>\n",
       "      <td>74.1429</td>\n",
       "      <td>74.9943</td>\n",
       "      <td>11204446.0</td>\n",
       "      <td>0.0</td>\n",
       "      <td>NaN</td>\n",
       "      <td>Apple</td>\n",
       "    </tr>\n",
       "  </tbody>\n",
       "</table>\n",
       "</div>"
      ],
      "text/plain": [
       "  ticker        date     high      low     open    close      volume   oi  \\\n",
       "0   AAPL  2013-10-29  77.0357  73.5057  76.6100  73.8111  22707445.0  0.0   \n",
       "1   AAPL  2013-10-28  75.8571  74.7443  75.5771  75.6966  19658589.0  0.0   \n",
       "2   AAPL  2013-10-25  76.1757  75.0157  75.9021  75.1369  12064019.0  0.0   \n",
       "3   AAPL  2013-10-24  76.0671  74.6357  75.0000  75.9871  13741585.0  0.0   \n",
       "4   AAPL  2013-10-23  75.0957  74.1429  74.1429  74.9943  11204446.0  0.0   \n",
       "\n",
       "   extra CompanyName  \n",
       "0    NaN       Apple  \n",
       "1    NaN       Apple  \n",
       "2    NaN       Apple  \n",
       "3    NaN       Apple  \n",
       "4    NaN       Apple  "
      ]
     },
     "execution_count": 9,
     "metadata": {},
     "output_type": "execute_result"
    }
   ],
   "source": [
    "merged.head()"
   ]
  },
  {
   "cell_type": "code",
   "execution_count": 10,
   "metadata": {},
   "outputs": [],
   "source": [
    "df = merged[['ticker', 'CompanyName', 'date', 'open', 'close']].copy()"
   ]
  },
  {
   "cell_type": "code",
   "execution_count": 11,
   "metadata": {},
   "outputs": [],
   "source": [
    "# Create a 'movement' field, which shows how much the stock moved in a day\n",
    "# That is the difference between close and open\n",
    "df['movement'] = df['close'] - df['open']"
   ]
  },
  {
   "cell_type": "code",
   "execution_count": 12,
   "metadata": {},
   "outputs": [
    {
     "data": {
      "text/plain": [
       "ticker         0\n",
       "CompanyName    0\n",
       "date           0\n",
       "open           2\n",
       "close          2\n",
       "movement       2\n",
       "dtype: int64"
      ]
     },
     "execution_count": 12,
     "metadata": {},
     "output_type": "execute_result"
    }
   ],
   "source": [
    "df.isna().sum()"
   ]
  },
  {
   "cell_type": "code",
   "execution_count": 13,
   "metadata": {},
   "outputs": [],
   "source": [
    "# Drop null, since only 2\n",
    "df.dropna(inplace=True)"
   ]
  },
  {
   "cell_type": "code",
   "execution_count": 14,
   "metadata": {},
   "outputs": [],
   "source": [
    "df = df[['ticker', 'CompanyName', 'date', 'movement']]"
   ]
  },
  {
   "cell_type": "code",
   "execution_count": 15,
   "metadata": {},
   "outputs": [],
   "source": [
    "result = df.pivot_table(index=['ticker', 'CompanyName'], values='movement', columns='date')"
   ]
  },
  {
   "cell_type": "code",
   "execution_count": 16,
   "metadata": {},
   "outputs": [
    {
     "data": {
      "text/html": [
       "<div>\n",
       "<style scoped>\n",
       "    .dataframe tbody tr th:only-of-type {\n",
       "        vertical-align: middle;\n",
       "    }\n",
       "\n",
       "    .dataframe tbody tr th {\n",
       "        vertical-align: top;\n",
       "    }\n",
       "\n",
       "    .dataframe thead th {\n",
       "        text-align: right;\n",
       "    }\n",
       "</style>\n",
       "<table border=\"1\" class=\"dataframe\">\n",
       "  <thead>\n",
       "    <tr style=\"text-align: right;\">\n",
       "      <th></th>\n",
       "      <th>date</th>\n",
       "      <th>2009-12-31</th>\n",
       "      <th>2010-01-04</th>\n",
       "      <th>2010-01-05</th>\n",
       "      <th>2010-01-06</th>\n",
       "      <th>2010-01-07</th>\n",
       "      <th>2010-01-08</th>\n",
       "      <th>2010-01-11</th>\n",
       "      <th>2010-01-12</th>\n",
       "      <th>2010-01-13</th>\n",
       "      <th>2010-01-14</th>\n",
       "      <th>...</th>\n",
       "      <th>2013-10-16</th>\n",
       "      <th>2013-10-17</th>\n",
       "      <th>2013-10-18</th>\n",
       "      <th>2013-10-21</th>\n",
       "      <th>2013-10-22</th>\n",
       "      <th>2013-10-23</th>\n",
       "      <th>2013-10-24</th>\n",
       "      <th>2013-10-25</th>\n",
       "      <th>2013-10-28</th>\n",
       "      <th>2013-10-29</th>\n",
       "    </tr>\n",
       "    <tr>\n",
       "      <th>ticker</th>\n",
       "      <th>CompanyName</th>\n",
       "      <th></th>\n",
       "      <th></th>\n",
       "      <th></th>\n",
       "      <th></th>\n",
       "      <th></th>\n",
       "      <th></th>\n",
       "      <th></th>\n",
       "      <th></th>\n",
       "      <th></th>\n",
       "      <th></th>\n",
       "      <th></th>\n",
       "      <th></th>\n",
       "      <th></th>\n",
       "      <th></th>\n",
       "      <th></th>\n",
       "      <th></th>\n",
       "      <th></th>\n",
       "      <th></th>\n",
       "      <th></th>\n",
       "      <th></th>\n",
       "      <th></th>\n",
       "    </tr>\n",
       "  </thead>\n",
       "  <tbody>\n",
       "    <tr>\n",
       "      <th>AAPL</th>\n",
       "      <th>Apple</th>\n",
       "      <td>-0.3425</td>\n",
       "      <td>0.0829</td>\n",
       "      <td>-0.0314</td>\n",
       "      <td>-0.4871</td>\n",
       "      <td>-0.1671</td>\n",
       "      <td>0.24</td>\n",
       "      <td>-0.3843</td>\n",
       "      <td>-0.21</td>\n",
       "      <td>0.3972</td>\n",
       "      <td>-0.0971</td>\n",
       "      <td>...</td>\n",
       "      <td>0.0463</td>\n",
       "      <td>0.6457</td>\n",
       "      <td>0.4143</td>\n",
       "      <td>1.3703</td>\n",
       "      <td>-0.9339</td>\n",
       "      <td>0.8514</td>\n",
       "      <td>0.9871</td>\n",
       "      <td>-0.7652</td>\n",
       "      <td>0.1195</td>\n",
       "      <td>-2.7989</td>\n",
       "    </tr>\n",
       "    <tr>\n",
       "      <th>AIG</th>\n",
       "      <th>AIG</th>\n",
       "      <td>-0.6700</td>\n",
       "      <td>-0.6400</td>\n",
       "      <td>-0.6500</td>\n",
       "      <td>-0.2100</td>\n",
       "      <td>-0.4200</td>\n",
       "      <td>0.71</td>\n",
       "      <td>-0.2000</td>\n",
       "      <td>-1.13</td>\n",
       "      <td>0.0700</td>\n",
       "      <td>-0.1200</td>\n",
       "      <td>...</td>\n",
       "      <td>0.9200</td>\n",
       "      <td>0.7100</td>\n",
       "      <td>0.1200</td>\n",
       "      <td>-0.4800</td>\n",
       "      <td>0.0100</td>\n",
       "      <td>-0.2800</td>\n",
       "      <td>-0.1900</td>\n",
       "      <td>-0.0400</td>\n",
       "      <td>-0.4000</td>\n",
       "      <td>0.6600</td>\n",
       "    </tr>\n",
       "    <tr>\n",
       "      <th>AMZN</th>\n",
       "      <th>Amazon</th>\n",
       "      <td>-2.5700</td>\n",
       "      <td>-2.3500</td>\n",
       "      <td>1.2600</td>\n",
       "      <td>-2.3500</td>\n",
       "      <td>-2.0100</td>\n",
       "      <td>2.96</td>\n",
       "      <td>-2.3120</td>\n",
       "      <td>-1.64</td>\n",
       "      <td>1.2079</td>\n",
       "      <td>-1.7900</td>\n",
       "      <td>...</td>\n",
       "      <td>2.1100</td>\n",
       "      <td>3.7000</td>\n",
       "      <td>9.5710</td>\n",
       "      <td>-3.4500</td>\n",
       "      <td>4.8200</td>\n",
       "      <td>-4.0840</td>\n",
       "      <td>2.5800</td>\n",
       "      <td>4.7900</td>\n",
       "      <td>-1.7600</td>\n",
       "      <td>3.7400</td>\n",
       "    </tr>\n",
       "    <tr>\n",
       "      <th>AXP</th>\n",
       "      <th>American express</th>\n",
       "      <td>-0.3800</td>\n",
       "      <td>0.1100</td>\n",
       "      <td>0.0000</td>\n",
       "      <td>0.2600</td>\n",
       "      <td>0.7200</td>\n",
       "      <td>0.19</td>\n",
       "      <td>-0.2700</td>\n",
       "      <td>0.75</td>\n",
       "      <td>0.3000</td>\n",
       "      <td>0.6400</td>\n",
       "      <td>...</td>\n",
       "      <td>0.6800</td>\n",
       "      <td>2.2900</td>\n",
       "      <td>0.4100</td>\n",
       "      <td>-0.0700</td>\n",
       "      <td>0.1000</td>\n",
       "      <td>0.0700</td>\n",
       "      <td>0.1300</td>\n",
       "      <td>1.8500</td>\n",
       "      <td>0.0400</td>\n",
       "      <td>0.5400</td>\n",
       "    </tr>\n",
       "    <tr>\n",
       "      <th>BA</th>\n",
       "      <th>Boeing</th>\n",
       "      <td>-0.8700</td>\n",
       "      <td>0.4600</td>\n",
       "      <td>1.7700</td>\n",
       "      <td>1.5500</td>\n",
       "      <td>2.6900</td>\n",
       "      <td>0.06</td>\n",
       "      <td>-1.0800</td>\n",
       "      <td>0.36</td>\n",
       "      <td>0.5500</td>\n",
       "      <td>0.5300</td>\n",
       "      <td>...</td>\n",
       "      <td>1.5600</td>\n",
       "      <td>2.4800</td>\n",
       "      <td>0.0200</td>\n",
       "      <td>-1.2200</td>\n",
       "      <td>0.4800</td>\n",
       "      <td>3.0200</td>\n",
       "      <td>-0.0300</td>\n",
       "      <td>1.9400</td>\n",
       "      <td>1.1300</td>\n",
       "      <td>0.3100</td>\n",
       "    </tr>\n",
       "  </tbody>\n",
       "</table>\n",
       "<p>5 rows × 964 columns</p>\n",
       "</div>"
      ],
      "text/plain": [
       "date                     2009-12-31  2010-01-04  2010-01-05  2010-01-06  \\\n",
       "ticker CompanyName                                                        \n",
       "AAPL   Apple                -0.3425      0.0829     -0.0314     -0.4871   \n",
       "AIG    AIG                  -0.6700     -0.6400     -0.6500     -0.2100   \n",
       "AMZN   Amazon               -2.5700     -2.3500      1.2600     -2.3500   \n",
       "AXP    American express     -0.3800      0.1100      0.0000      0.2600   \n",
       "BA     Boeing               -0.8700      0.4600      1.7700      1.5500   \n",
       "\n",
       "date                     2010-01-07  2010-01-08  2010-01-11  2010-01-12  \\\n",
       "ticker CompanyName                                                        \n",
       "AAPL   Apple                -0.1671        0.24     -0.3843       -0.21   \n",
       "AIG    AIG                  -0.4200        0.71     -0.2000       -1.13   \n",
       "AMZN   Amazon               -2.0100        2.96     -2.3120       -1.64   \n",
       "AXP    American express      0.7200        0.19     -0.2700        0.75   \n",
       "BA     Boeing                2.6900        0.06     -1.0800        0.36   \n",
       "\n",
       "date                     2010-01-13  2010-01-14  ...  2013-10-16  2013-10-17  \\\n",
       "ticker CompanyName                               ...                           \n",
       "AAPL   Apple                 0.3972     -0.0971  ...      0.0463      0.6457   \n",
       "AIG    AIG                   0.0700     -0.1200  ...      0.9200      0.7100   \n",
       "AMZN   Amazon                1.2079     -1.7900  ...      2.1100      3.7000   \n",
       "AXP    American express      0.3000      0.6400  ...      0.6800      2.2900   \n",
       "BA     Boeing                0.5500      0.5300  ...      1.5600      2.4800   \n",
       "\n",
       "date                     2013-10-18  2013-10-21  2013-10-22  2013-10-23  \\\n",
       "ticker CompanyName                                                        \n",
       "AAPL   Apple                 0.4143      1.3703     -0.9339      0.8514   \n",
       "AIG    AIG                   0.1200     -0.4800      0.0100     -0.2800   \n",
       "AMZN   Amazon                9.5710     -3.4500      4.8200     -4.0840   \n",
       "AXP    American express      0.4100     -0.0700      0.1000      0.0700   \n",
       "BA     Boeing                0.0200     -1.2200      0.4800      3.0200   \n",
       "\n",
       "date                     2013-10-24  2013-10-25  2013-10-28  2013-10-29  \n",
       "ticker CompanyName                                                       \n",
       "AAPL   Apple                 0.9871     -0.7652      0.1195     -2.7989  \n",
       "AIG    AIG                  -0.1900     -0.0400     -0.4000      0.6600  \n",
       "AMZN   Amazon                2.5800      4.7900     -1.7600      3.7400  \n",
       "AXP    American express      0.1300      1.8500      0.0400      0.5400  \n",
       "BA     Boeing               -0.0300      1.9400      1.1300      0.3100  \n",
       "\n",
       "[5 rows x 964 columns]"
      ]
     },
     "execution_count": 16,
     "metadata": {},
     "output_type": "execute_result"
    }
   ],
   "source": [
    "result.head()"
   ]
  },
  {
   "cell_type": "markdown",
   "metadata": {},
   "source": [
    "## Use K-Means cluster with 10 clusters for result"
   ]
  },
  {
   "cell_type": "code",
   "execution_count": 21,
   "metadata": {},
   "outputs": [],
   "source": [
    "indices = result.index.tolist()"
   ]
  },
  {
   "cell_type": "code",
   "execution_count": 18,
   "metadata": {},
   "outputs": [],
   "source": [
    "companies = [y[1] for y in indices]"
   ]
  },
  {
   "cell_type": "code",
   "execution_count": 19,
   "metadata": {
    "scrolled": true
   },
   "outputs": [
    {
     "data": {
      "text/plain": [
       "['Apple',\n",
       " 'AIG',\n",
       " 'Amazon',\n",
       " 'American express',\n",
       " 'Boeing',\n",
       " 'Bank of America',\n",
       " 'British American Tobacco',\n",
       " 'Canon',\n",
       " 'Caterpillar',\n",
       " 'Colgate-Palmolive',\n",
       " 'ConocoPhillips',\n",
       " 'Cisco',\n",
       " 'Chevron',\n",
       " 'DuPont de Nemours',\n",
       " 'General Electrics',\n",
       " 'Google/Alphabet',\n",
       " 'Goldman Sachs',\n",
       " 'GlaxoSmithKline',\n",
       " 'Home Depot',\n",
       " 'Honda',\n",
       " 'HP',\n",
       " 'IBM',\n",
       " 'Intel',\n",
       " 'Johnson & Johnson',\n",
       " 'JPMorgan Chase',\n",
       " 'Kimberly-Clark',\n",
       " 'Coca Cola',\n",
       " 'Lookheed Martin',\n",
       " 'MasterCard',\n",
       " 'McDonalds',\n",
       " '3M',\n",
       " 'Mitsubishi',\n",
       " 'Microsoft',\n",
       " 'Navistar',\n",
       " 'Northrop Grumman',\n",
       " 'Novartis',\n",
       " 'Pepsi',\n",
       " 'Pfizer',\n",
       " 'Procter Gamble',\n",
       " 'Philip Morris',\n",
       " 'SAP',\n",
       " 'Schlumberger',\n",
       " 'Sony',\n",
       " 'Sanofi-Aventis',\n",
       " 'Taiwan Semiconductor Manufacturing',\n",
       " 'Texas instruments',\n",
       " 'Unilever',\n",
       " 'Valero Energy',\n",
       " 'Walgreen',\n",
       " 'Wells Fargo',\n",
       " 'Wal-Mart',\n",
       " 'Exxon',\n",
       " 'Xerox']"
      ]
     },
     "execution_count": 19,
     "metadata": {},
     "output_type": "execute_result"
    }
   ],
   "source": [
    "companies"
   ]
  },
  {
   "cell_type": "code",
   "execution_count": 20,
   "metadata": {},
   "outputs": [],
   "source": [
    "movements = result.iloc[:, :].values"
   ]
  },
  {
   "cell_type": "markdown",
   "metadata": {},
   "source": [
    "#### Build a pipeline, with normalizer as it normalizes the entire row"
   ]
  },
  {
   "cell_type": "code",
   "execution_count": 22,
   "metadata": {},
   "outputs": [
    {
     "data": {
      "text/plain": [
       "Pipeline(steps=[('normalizer', Normalizer()),\n",
       "                ('kmeans', KMeans(n_clusters=10))])"
      ]
     },
     "execution_count": 22,
     "metadata": {},
     "output_type": "execute_result"
    }
   ],
   "source": [
    "# Import Normalizer\n",
    "from sklearn.preprocessing import Normalizer\n",
    "from sklearn.cluster import KMeans\n",
    "from sklearn.pipeline import make_pipeline\n",
    "\n",
    "# Create a normalizer: normalizer\n",
    "normalizer = Normalizer()\n",
    "\n",
    "# Create a KMeans model with 10 clusters: kmeans\n",
    "kmeans = KMeans(n_clusters=10)\n",
    "\n",
    "# Make a pipeline chaining normalizer and kmeans: pipeline\n",
    "pipeline = make_pipeline(normalizer, kmeans)\n",
    "\n",
    "# Fit pipeline to the daily price movements\n",
    "pipeline.fit(movements)"
   ]
  },
  {
   "cell_type": "code",
   "execution_count": 23,
   "metadata": {},
   "outputs": [
    {
     "name": "stdout",
     "output_type": "stream",
     "text": [
      "    labels                              ticker\n",
      "29       0                           McDonalds\n",
      "1        1                                 AIG\n",
      "3        1                    American express\n",
      "5        1                     Bank of America\n",
      "14       1                   General Electrics\n",
      "16       1                       Goldman Sachs\n",
      "24       1                      JPMorgan Chase\n",
      "49       1                         Wells Fargo\n",
      "23       2                   Johnson & Johnson\n",
      "37       2                              Pfizer\n",
      "50       2                            Wal-Mart\n",
      "48       2                            Walgreen\n",
      "2        3                              Amazon\n",
      "0        3                               Apple\n",
      "15       3                     Google/Alphabet\n",
      "32       3                           Microsoft\n",
      "40       3                                 SAP\n",
      "44       3  Taiwan Semiconductor Manufacturing\n",
      "7        4                               Canon\n",
      "19       4                               Honda\n",
      "31       4                          Mitsubishi\n",
      "42       4                                Sony\n",
      "26       5                           Coca Cola\n",
      "9        5                   Colgate-Palmolive\n",
      "25       5                      Kimberly-Clark\n",
      "36       5                               Pepsi\n",
      "39       5                       Philip Morris\n",
      "38       5                      Procter Gamble\n",
      "6        6            British American Tobacco\n",
      "17       6                     GlaxoSmithKline\n",
      "35       6                            Novartis\n",
      "43       6                      Sanofi-Aventis\n",
      "46       6                            Unilever\n",
      "12       7                             Chevron\n",
      "10       7                      ConocoPhillips\n",
      "51       7                               Exxon\n",
      "20       7                                  HP\n",
      "41       7                        Schlumberger\n",
      "47       7                       Valero Energy\n",
      "27       8                     Lookheed Martin\n",
      "34       8                    Northrop Grumman\n",
      "30       9                                  3M\n",
      "4        9                              Boeing\n",
      "8        9                         Caterpillar\n",
      "11       9                               Cisco\n",
      "13       9                   DuPont de Nemours\n",
      "18       9                          Home Depot\n",
      "21       9                                 IBM\n",
      "22       9                               Intel\n",
      "28       9                          MasterCard\n",
      "33       9                            Navistar\n",
      "45       9                   Texas instruments\n",
      "52       9                               Xerox\n"
     ]
    }
   ],
   "source": [
    "# Predict the cluster labels: labels\n",
    "labels = pipeline.predict(movements)\n",
    "\n",
    "# Create a DataFrame aligning labels and companies: df\n",
    "df = pd.DataFrame({'labels': labels, 'ticker': companies})\n",
    "\n",
    "# Display df sorted by cluster label\n",
    "print(df.sort_values(['labels', 'ticker']))"
   ]
  },
  {
   "cell_type": "markdown",
   "metadata": {},
   "source": [
    "### With K-means Cluster of 10, the labels matches the sector that the company is in.\n",
    "\n",
    "For example: Lable  matches these companies:\n",
    "\n",
    "* 3                              Amazon\n",
    "* 3                               Apple\n",
    "* 3                     Google/Alphabet\n",
    "* 3                           Microsoft\n",
    "* 3                                 SAP\n",
    "* 3  Taiwan Semiconductor Manufacturing\n"
   ]
  },
  {
   "cell_type": "markdown",
   "metadata": {},
   "source": [
    "# In this section, use SciPy to do hierchical clustering\n",
    "## With visuals\n"
   ]
  },
  {
   "cell_type": "code",
   "execution_count": 24,
   "metadata": {},
   "outputs": [
    {
     "data": {
      "image/png": "[encoded data removed]",
      "text/plain": [
       "<Figure size 1440x720 with 1 Axes>"
      ]
     },
     "metadata": {
      "needs_background": "light"
     },
     "output_type": "display_data"
    }
   ],
   "source": [
    "# Import normalize\n",
    "import matplotlib.pyplot as plt\n",
    "from sklearn.preprocessing import normalize\n",
    "from scipy.cluster.hierarchy import linkage, dendrogram\n",
    "%matplotlib inline\n",
    "\n",
    "# Normalize the movements: normalized_movements\n",
    "normalized_movements = normalize(movements)\n",
    "\n",
    "# Calculate the linkage: mergings\n",
    "mergings = linkage(normalized_movements, method='complete')\n",
    "\n",
    "# Plot the dendrogram\n",
    "plt.figure(figsize=(20,10))\n",
    "dendrogram(mergings, \n",
    "           labels=companies,\n",
    "           leaf_rotation=90,\n",
    "           leaf_font_size=10)\n",
    "plt.show()"
   ]
  },
  {
   "cell_type": "markdown",
   "metadata": {},
   "source": [
    "## Use t-SNE for visuals\n",
    "### A scatter plot of the resulting t-SNE features, labeled by the company names, gives us a map of the stock market"
   ]
  },
  {
   "cell_type": "code",
   "execution_count": 25,
   "metadata": {},
   "outputs": [
    {
     "data": {
      "image/png": "[encoded data removed]",
      "text/plain": [
       "<Figure size 1080x720 with 1 Axes>"
      ]
     },
     "metadata": {
      "needs_background": "light"
     },
     "output_type": "display_data"
    }
   ],
   "source": [
    "from sklearn.manifold import TSNE\n",
    "\n",
    "# Create a TSNE instance: model\n",
    "model = TSNE(learning_rate=50)\n",
    "\n",
    "# Apply fit_transform to normalized_movements: tsne_features\n",
    "tsne_features = model.fit_transform(normalized_movements)\n",
    "\n",
    "# Select the 0th feature: xs\n",
    "xs = tsne_features[:, 0]\n",
    "\n",
    "# Select the 1th feature: ys\n",
    "ys = tsne_features[:,1]\n",
    "\n",
    "# Scatter plot\n",
    "plt.figure(figsize=(15,10))\n",
    "plt.scatter(xs, ys, alpha=0.5)\n",
    "\n",
    "\n",
    "# Annotate the points\n",
    "for x, y, company in zip(xs, ys, companies):\n",
    "    plt.annotate(company, (x, y), fontsize=10, alpha=0.75)\n",
    "\n",
    "\n",
    "plt.show()\n",
    "\n",
    "\n",
    "\n"
   ]
  },
  {
   "cell_type": "code",
   "execution_count": null,
   "metadata": {},
   "outputs": [],
   "source": []
  }
 ],
 "metadata": {
  "kernelspec": {
   "display_name": "Python 3",
   "language": "python",
   "name": "python3"
  },
  "language_info": {
   "codemirror_mode": {
    "name": "ipython",
    "version": 3
   },
   "file_extension": ".py",
   "mimetype": "text/x-python",
   "name": "python",
   "nbconvert_exporter": "python",
   "pygments_lexer": "ipython3",
   "version": "3.6.8"
  }
 },
 "nbformat": 4,
 "nbformat_minor": 4
}
